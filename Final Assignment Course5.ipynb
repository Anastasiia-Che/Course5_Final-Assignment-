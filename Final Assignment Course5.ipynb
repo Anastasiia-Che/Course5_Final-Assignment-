Extracting and Visualizing Stock Data
Question 1: Use yfinance to Extract Stock Data
Question 2: Use Webscraping to Extract Tesla Revenue Data
